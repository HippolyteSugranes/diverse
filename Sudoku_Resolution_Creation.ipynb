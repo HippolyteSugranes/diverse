{
 "cells": [
  {
   "cell_type": "markdown",
   "metadata": {},
   "source": [
    "# Résolution d'une grille de sudoku\n",
    "\n",
    "ex: https://fr.wikipedia.org/wiki/Math%C3%A9matiques_du_sudoku#/media/Fichier:Sudoku00.png\n",
    "\n",
    "Notebook contenant mon étude réalisée sur les Sudokus:\n",
    "1. Résolution d'une grille de sudoku\n",
    "2. Vérification de l'unicité de la solution\n",
    "3. Génération de sudoku, à difficultées variables"
   ]
  },
  {
   "cell_type": "code",
   "execution_count": 1,
   "metadata": {},
   "outputs": [],
   "source": [
    "import numpy as np\n",
    "import random as rd"
   ]
  },
  {
   "cell_type": "markdown",
   "metadata": {},
   "source": [
    "# Résolution d'une grille de Sudoku\n",
    "\n",
    "- L'ensemble de fonctions ci-dessous permet la résolution d'une grille de sudoku\n",
    "- La fonction pos_verif (et most_val) définies les contraintes liées au Sudoku\n",
    "- La fonction rempl_grille remplie de manière récursive la grille, qui est modifiée directement dans la variable d'entrée"
   ]
  },
  {
   "cell_type": "code",
   "execution_count": 2,
   "metadata": {},
   "outputs": [],
   "source": [
    "def pos_verif(grille,x,y):\n",
    "    if not most_val(grille[x,:]):\n",
    "        return False\n",
    "    if not most_val(grille[:,y]):\n",
    "        return False\n",
    "    \n",
    "    deb_x = x//3\n",
    "    deb_y = y//3\n",
    "    bloc = np.array([0,0,0,0,0,0,0,0,0])\n",
    "    for i in range(0,3):\n",
    "        for j in range(0,3):\n",
    "            bloc[3*i + j] = grille[3*deb_x + i,3*deb_y + j]\n",
    "            \n",
    "    if not most_val(bloc):\n",
    "        return False\n",
    "    return True\n",
    "\n",
    "def most_val(liste):\n",
    "    for i in range(1,10):\n",
    "        count = 0\n",
    "        for j in liste:\n",
    "            if j==i:\n",
    "                count+=1\n",
    "        if count>1:\n",
    "            return False\n",
    "    return True\n",
    "\n",
    "def rempl_grille(grille,pos):\n",
    "    if pos==81:\n",
    "        return True\n",
    "    \n",
    "    x = pos//9\n",
    "    y = pos%9\n",
    "    \n",
    "    if grille[x][y] !=0:\n",
    "        return rempl_grille(grille,pos+1)\n",
    "    \n",
    "    liste = list(range(1,10))\n",
    "    rd.shuffle(liste)\n",
    "    for n in range(0,9):\n",
    "        grille[x][y] = liste[n]\n",
    "        \n",
    "        if pos_verif(grille,x,y):\n",
    "            if rempl_grille(grille,pos+1):\n",
    "                return True\n",
    "        if n+1==9:\n",
    "            grille[x][y]=0\n",
    "            return False\n"
   ]
  },
  {
   "cell_type": "code",
   "execution_count": 3,
   "metadata": {},
   "outputs": [
    {
     "name": "stdout",
     "output_type": "stream",
     "text": [
      "Wall time: 103 ms\n"
     ]
    },
    {
     "data": {
      "text/plain": [
       "True"
      ]
     },
     "execution_count": 3,
     "metadata": {},
     "output_type": "execute_result"
    }
   ],
   "source": [
    "%%time\n",
    "grille = np.array([[1,0,0,0,0,0,0,0,6],\n",
    "                   [0,0,6,0,2,0,7,0,0],\n",
    "                   [7,8,9,4,5,0,1,0,3],\n",
    "                   [0,0,0,8,0,7,0,0,4],\n",
    "                   [0,0,0,0,3,0,0,0,0],\n",
    "                   [0,9,0,0,0,4,2,0,1],\n",
    "                   [3,1,2,9,7,0,0,4,0],\n",
    "                   [0,4,0,0,1,2,0,7,8],\n",
    "                   [9,0,8,0,0,0,0,0,0]])\n",
    "\n",
    "rempl_grille(grille,0)"
   ]
  },
  {
   "cell_type": "code",
   "execution_count": 4,
   "metadata": {},
   "outputs": [
    {
     "data": {
      "text/plain": [
       "array([[1, 2, 3, 7, 8, 9, 4, 5, 6],\n",
       "       [4, 5, 6, 1, 2, 3, 7, 8, 9],\n",
       "       [7, 8, 9, 4, 5, 6, 1, 2, 3],\n",
       "       [2, 3, 1, 8, 9, 7, 5, 6, 4],\n",
       "       [5, 6, 4, 2, 3, 1, 8, 9, 7],\n",
       "       [8, 9, 7, 5, 6, 4, 2, 3, 1],\n",
       "       [3, 1, 2, 9, 7, 8, 6, 4, 5],\n",
       "       [6, 4, 5, 3, 1, 2, 9, 7, 8],\n",
       "       [9, 7, 8, 6, 4, 5, 3, 1, 2]])"
      ]
     },
     "execution_count": 4,
     "metadata": {},
     "output_type": "execute_result"
    }
   ],
   "source": [
    "grille"
   ]
  },
  {
   "cell_type": "markdown",
   "metadata": {},
   "source": [
    "# Unicité de la solution\n",
    "Les fonctions ci-dessous permettent de vérifier l'unicité de la solution d'une grille de Sudoku. La vérification est empirique: si 10 résolutions sont égales, la solution est considérée comme unique"
   ]
  },
  {
   "cell_type": "code",
   "execution_count": 5,
   "metadata": {},
   "outputs": [],
   "source": [
    "def equal(grid1,grid2):\n",
    "    for i in range(0,9):\n",
    "        for j in range(0,9):\n",
    "            if grid1[i,j] != grid2[i,j]:\n",
    "                return False\n",
    "    return True\n",
    "\n",
    "def unique_solution(grille):\n",
    "    grid = [grille.copy()]\n",
    "    rempl_grille(grid[0],0)\n",
    "    \n",
    "    for i in range(1,10):\n",
    "        grid.append(grille.copy())\n",
    "        rempl_grille(grid[i],0)\n",
    "        if not equal(grid[i],grid[0]):\n",
    "            return False\n",
    "    return True"
   ]
  },
  {
   "cell_type": "code",
   "execution_count": 6,
   "metadata": {},
   "outputs": [
    {
     "data": {
      "text/plain": [
       "True"
      ]
     },
     "execution_count": 6,
     "metadata": {},
     "output_type": "execute_result"
    }
   ],
   "source": [
    "grille = np.array([[1,0,0,0,0,0,0,0,6],\n",
    "                   [0,0,6,0,2,0,7,0,0],\n",
    "                   [7,8,9,4,5,0,1,0,3],\n",
    "                   [0,0,0,8,0,7,0,0,4],\n",
    "                   [0,0,0,0,3,0,0,0,0],\n",
    "                   [0,9,0,0,0,4,2,0,1],\n",
    "                   [3,1,2,9,7,0,0,4,0],\n",
    "                   [0,4,0,0,1,2,0,7,8],\n",
    "                   [9,0,8,0,0,0,0,0,0]])\n",
    "unique_solution(grille)"
   ]
  },
  {
   "cell_type": "markdown",
   "metadata": {},
   "source": [
    "# Génération de grille de sudoku à difficultées variables"
   ]
  },
  {
   "cell_type": "code",
   "execution_count": 7,
   "metadata": {},
   "outputs": [],
   "source": [
    "def create_sudoku(difficulty = 'hard'):\n",
    "    diff = {'easy':20,'medium':30,'hard':40}\n",
    "    grille = np.zeros(shape = (9,9),dtype = int)\n",
    "    rempl_grille(grille,0)\n",
    "    pos = list(range(0,81))\n",
    "    rd.shuffle(pos)\n",
    "    \n",
    "    for n in range(0,10):\n",
    "        num = pos.pop()\n",
    "        x = num//9\n",
    "        y = num%9\n",
    "        grille[x,y] = 0\n",
    "    \n",
    "    if not unique_solution(grille):\n",
    "        return create_sudoku(difficulty)\n",
    "    else:\n",
    "        for n in range(0,diff[difficulty]):\n",
    "            print('{}/{}, size(pos) = {}'.format(n,diff[difficulty],len(pos)),end = '\\r')\n",
    "            while True:\n",
    "                if len(pos)==0:\n",
    "                    return grille\n",
    "                \n",
    "                m = rd.randint(0,len(pos)-1)\n",
    "                num = pos.pop(m)\n",
    "                \n",
    "                x = num//9\n",
    "                y = num%9\n",
    "    \n",
    "                reminder = grille[x,y]\n",
    "                grille[x,y] = 0\n",
    "            \n",
    "                if not unique_solution(grille):\n",
    "                    grille[x,y] = reminder\n",
    "                else:\n",
    "                    break\n",
    "    return grille"
   ]
  },
  {
   "cell_type": "code",
   "execution_count": 11,
   "metadata": {},
   "outputs": [
    {
     "name": "stdout",
     "output_type": "stream",
     "text": [
      "19/20, size(pos) = 51\r"
     ]
    }
   ],
   "source": [
    "grille = create_sudoku(difficulty = 'easy')"
   ]
  },
  {
   "cell_type": "code",
   "execution_count": null,
   "metadata": {},
   "outputs": [
    {
     "data": {
      "text/plain": [
       "(array([[0, 0, 9, 2, 4, 6, 5, 0, 1],\n",
       "        [7, 0, 5, 1, 8, 0, 4, 9, 2],\n",
       "        [1, 4, 0, 0, 0, 9, 0, 6, 8],\n",
       "        [5, 7, 1, 8, 2, 4, 9, 3, 0],\n",
       "        [0, 2, 3, 0, 9, 1, 7, 0, 0],\n",
       "        [0, 9, 8, 3, 0, 0, 0, 1, 0],\n",
       "        [0, 0, 0, 9, 0, 0, 1, 4, 0],\n",
       "        [3, 0, 7, 0, 1, 8, 0, 2, 9],\n",
       "        [0, 0, 4, 6, 3, 2, 8, 5, 7]]), True)"
      ]
     },
     "execution_count": 12,
     "metadata": {},
     "output_type": "execute_result"
    }
   ],
   "source": [
    "grille,unique_solution(grille)"
   ]
  },
  {
   "cell_type": "code",
   "execution_count": null,
   "metadata": {},
   "outputs": [],
   "source": []
  }
 ],
 "metadata": {
  "kernelspec": {
   "display_name": "Python 3",
   "language": "python",
   "name": "python3"
  },
  "language_info": {
   "codemirror_mode": {
    "name": "ipython",
    "version": 3
   },
   "file_extension": ".py",
   "mimetype": "text/x-python",
   "name": "python",
   "nbconvert_exporter": "python",
   "pygments_lexer": "ipython3",
   "version": "3.7.3"
  }
 },
 "nbformat": 4,
 "nbformat_minor": 2
}
