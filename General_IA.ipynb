{
 "cells": [
  {
   "cell_type": "code",
   "execution_count": 8,
   "metadata": {},
   "outputs": [],
   "source": [
    "import numpy as np\n",
    "import random"
   ]
  },
  {
   "cell_type": "code",
   "execution_count": 7,
   "metadata": {},
   "outputs": [],
   "source": [
    "### Game Structure to interact with IA algorithms\n",
    "class Game:\n",
    "    def __init__(self):\n",
    "        self.end = False\n",
    "        pass\n",
    "    \n",
    "    def random_strategy(self):\n",
    "        pass\n",
    "    \n",
    "    def strategy(self):\n",
    "        pass\n",
    "    \n",
    "    def reward(self):\n",
    "        pass\n",
    "    \n",
    "    def step(self):\n",
    "        pass\n",
    "    \n",
    "    def copy(self):\n",
    "        pass\n",
    "\n",
    "class Agent:\n",
    "    def __init__(self,game,name):\n",
    "        self.game = game\n",
    "        self.name = name\n",
    "        pass\n",
    "    \n",
    "    def move_available(self):\n",
    "        pass\n",
    "    \n",
    "    def move(self):\n",
    "        pass\n",
    "    \n",
    "    def copy(self):\n",
    "        pass"
   ]
  },
  {
   "cell_type": "code",
   "execution_count": 6,
   "metadata": {},
   "outputs": [],
   "source": [
    "class MinMax:\n",
    "    def __init__(self , game , name_ally , name_enemy , depth , time_limit):\n",
    "        self.game = game\n",
    "        self.parameters = {name_ally : max , name_enemy : min} # {agent.name : min,agent.name:max}\n",
    "        self.depth , self.time_limit = depth , time_limit\n",
    "        self.ally , self.enemy = name_ally , name_enemy\n",
    "        self.timer , self.alpha , self.beta = 0 , np.inf , - np.inf\n",
    "        \n",
    "    def best_move(self , game = None , name = None , depth = None , init = True , alpha_lim = None , beta_lim = None):\n",
    "        if init:\n",
    "            self.timer = time.time()\n",
    "            game , name , depth , alpha_lim , beta_lim = self.game , self.ally , self.depth , self.alpha , self.beta\n",
    "        \n",
    "        if depth <= 0 or game.end or time.time() - self.timer > time_limit:\n",
    "            return [] , game.score(self.ally)\n",
    "        \n",
    "        alpha , beta = self.alpha , self.beta\n",
    "        next_name = self.enemy if name == self.ally else self.ally\n",
    "        g = game.copy()\n",
    "        \n",
    "        results = []\n",
    "        for move in g.move_available(name):\n",
    "            g.step(move)\n",
    "            moves , result = self.minmax(game = g , name = next_name , depth = depth - 1 , init = False , alpha_lim = alpha , beta_lim = beta)\n",
    "            alpha , beta = min(alpha,result) , max(beta,result)\n",
    "            results.append(([move] + moves , result))\n",
    "            \n",
    "            if self.prunning(results , alpha_lim , beta_lim , name):\n",
    "                break\n",
    "        \n",
    "        if len(results) > 0:\n",
    "            random.shuffle(results)\n",
    "            return self.parameters[name](results , key = lambda n:n[1])\n",
    "        else:\n",
    "            return None , 0\n",
    "        \n",
    "    def prunning(results , alpha , beta , name):\n",
    "        result = self.parameters[name](results)[1]\n",
    "        cut = result <= beta if name == self.ally else result >= alpha\n",
    "        return cut"
   ]
  },
  {
   "cell_type": "code",
   "execution_count": 5,
   "metadata": {},
   "outputs": [],
   "source": [
    "class MCST:\n",
    "    def __init__(self):\n",
    "        pass"
   ]
  },
  {
   "cell_type": "code",
   "execution_count": 2,
   "metadata": {},
   "outputs": [],
   "source": [
    "class random_strat:\n",
    "    def __init__(self,agent,time_limit = 0.1):\n",
    "        self.time_limit = time_limit\n",
    "        self.agent = agent\n",
    "        self.memory = []\n",
    "        \n",
    "    def best_move(self):\n",
    "        t0 = time.time()\n",
    "        while time.time() - t0 < self.time_limit:\n",
    "            game = self.agent.game.copy()\n",
    "            move , immediate_reward, total_rewards , done = game.random_strategy()\n",
    "            self.memory.append((move,total_rewards))\n",
    "        \n",
    "        move = max(self.memory,key = lambda n:n[1])\n",
    "        self.memory = [(m[0][1:],m[1] - immediate_reward) for m in self.memory if m[0][0] == move and len(m) > 1]\n",
    "        \n",
    "        return move"
   ]
  },
  {
   "cell_type": "code",
   "execution_count": 19,
   "metadata": {},
   "outputs": [],
   "source": [
    "class Genetic:\n",
    "    def __init__(self , agent , gene_size , chromosone_size , mutation_probability = 0.05 ,\n",
    "                 crossover_probability = 0.2 , genome_size = 100 , limit = ('time',0.15)):\n",
    "        \n",
    "        self.agent = agent\n",
    "        self.mutation_probability = mutation_probability\n",
    "        self.crossover_probability = crossover_probability\n",
    "        self.genome_size = genome_size\n",
    "        self.gene_size = gene_size\n",
    "        self.chromosone_size = chromosone_size\n",
    "        self.genome = [[[random.random() for _ in range(gene_size)] for _ in range(chromosone_size)] for _ in range(genome_size)]\n",
    "        self.limit = limit\n",
    "        \n",
    "    def select(self):\n",
    "        self.genome = sorted(self.genome,key = lambda chromosone: self.agent.evaluate(chromosone),reverse = True)[:self.genome_size]\n",
    "        \n",
    "    def mutate(self , i):\n",
    "        j = random.randint(0,self.chromosone_size - 1)\n",
    "        self.genome[i][j] = [random.random() for _ in range(self.gene_size)]\n",
    "    \n",
    "    def crossover(self , i , j):\n",
    "        new_born = []\n",
    "        for count in range(self.chromosone_size):\n",
    "            if random.random() > 0.5:\n",
    "                new_born.append(self.genome[i][count])\n",
    "            else:\n",
    "                new_born.append(self.genome[j][count])\n",
    "        self.genome.append(new_born)\n",
    "        \n",
    "    def evolve_step(self):\n",
    "        for i in range(len(self.genome)):\n",
    "            if random.random() < self.mutation_probability:\n",
    "                self.mutate(i)\n",
    "            if random.random() < self.crossover_probability:\n",
    "                self.crossover(i,random.randint(0,self.genome_size - 1))\n",
    "        self.select()\n",
    "    \n",
    "    def evolution(self):\n",
    "        if self.limit[0] == 'time':\n",
    "            t0 = time.time()\n",
    "            n = 0\n",
    "            while time.time() - t0 < self.limit[1]:\n",
    "                self.evolve_step()\n",
    "                n+= 1\n",
    "        else:\n",
    "            n = 0\n",
    "            while n < self.limit[1]:\n",
    "                n+=1 \n",
    "                self.evolve_step()\n",
    "    \n",
    "    def best_move(self):\n",
    "        bm = self.genome[0][0]\n",
    "        self.genome = [chromosone[1:] + [[random.random() for _ in range(self.gene_size)]] for chromosone in self.genome]\n",
    "        return bm"
   ]
  },
  {
   "cell_type": "code",
   "execution_count": 4,
   "metadata": {},
   "outputs": [],
   "source": [
    "class DeepQL:\n",
    "    def __init__(self):\n",
    "        pass\n",
    "    \n",
    "    \n",
    "    "
   ]
  },
  {
   "cell_type": "code",
   "execution_count": 18,
   "metadata": {},
   "outputs": [
    {
     "data": {
      "text/plain": [
       "0.6220480367212277"
      ]
     },
     "execution_count": 18,
     "metadata": {},
     "output_type": "execute_result"
    }
   ],
   "source": [
    "random.random()"
   ]
  },
  {
   "cell_type": "code",
   "execution_count": null,
   "metadata": {},
   "outputs": [],
   "source": []
  }
 ],
 "metadata": {
  "kernelspec": {
   "display_name": "Python 3",
   "language": "python",
   "name": "python3"
  },
  "language_info": {
   "codemirror_mode": {
    "name": "ipython",
    "version": 3
   },
   "file_extension": ".py",
   "mimetype": "text/x-python",
   "name": "python",
   "nbconvert_exporter": "python",
   "pygments_lexer": "ipython3",
   "version": "3.7.3"
  }
 },
 "nbformat": 4,
 "nbformat_minor": 2
}
