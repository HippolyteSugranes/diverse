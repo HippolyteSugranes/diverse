{
 "cells": [
  {
   "cell_type": "code",
   "execution_count": 1,
   "metadata": {},
   "outputs": [
    {
     "name": "stdout",
     "output_type": "stream",
     "text": [
      "A\n",
      "B\n",
      "D\n",
      "E\n",
      "F\n",
      "C\n"
     ]
    }
   ],
   "source": [
    "## Depth - First - Search \n",
    "\n",
    "# Using a Python dictionary to act as an adjacency list\n",
    "graph = {\n",
    "    'A' : ['B','C'],\n",
    "    'B' : ['D', 'E'],\n",
    "    'C' : ['F'],\n",
    "    'D' : [],\n",
    "    'E' : ['F'],\n",
    "    'F' : []\n",
    "}\n",
    "\n",
    "visited = set() # Set to keep track of visited nodes.\n",
    "\n",
    "def dfs(visited, graph, node_in, node_out):\n",
    "    if node_in not in visited:\n",
    "        visited.add(node)\n",
    "        for neighbour in graph[node]:\n",
    "            dfs(visited, graph, neighbour)\n",
    "\n",
    "# Driver Code\n",
    "dfs(visited, graph, 'A')"
   ]
  },
  {
   "cell_type": "code",
   "execution_count": 30,
   "metadata": {},
   "outputs": [],
   "source": [
    "class node:\n",
    "    def __init__(self,n,cout,past):\n",
    "        self.n = n\n",
    "        self.cout = cout\n",
    "        self.past = past\n",
    "    \n",
    "    def is_in(self,liste):\n",
    "        for ele in liste:\n",
    "            if self.n == ele.n:\n",
    "                return True,ele.cout\n",
    "        return False,0\n",
    "    \n",
    "    def ways(self):\n",
    "        new = self\n",
    "        ways = []\n",
    "        while new.cout != 0:\n",
    "            new = new.past\n",
    "            ct = new.cout\n",
    "            ways.append(new.n)\n",
    "        return ways\n",
    "\n",
    "def Astar(graph,dep,arr):\n",
    "    open_list = [node(dep,0,None)]\n",
    "    close_list = []\n",
    "    while len(open_list) != 0:\n",
    "        old = open_list.pop()\n",
    "        if old.n == arr:\n",
    "            return old.ways()\n",
    "        \n",
    "        for n in graph[old.n]:\n",
    "            print(n)\n",
    "            new = node(n,old.cout + 1,old)\n",
    "            inside,cout = new.is_in(close_list)\n",
    "            if inside:\n",
    "                continue\n",
    "            inside,cout = new.is_in(open_list)\n",
    "            if inside and new.cout > cout:\n",
    "                continue\n",
    "            open_list.append(new)\n",
    "            open_list.sort(key = lambda n:n.cout,reverse = True)\n",
    "            close_list.append(old)\n",
    "    return False"
   ]
  },
  {
   "cell_type": "code",
   "execution_count": 31,
   "metadata": {},
   "outputs": [
    {
     "name": "stdout",
     "output_type": "stream",
     "text": [
      "D\n",
      "E\n",
      "F\n"
     ]
    },
    {
     "data": {
      "text/plain": [
       "['E', 'B']"
      ]
     },
     "execution_count": 31,
     "metadata": {},
     "output_type": "execute_result"
    }
   ],
   "source": [
    "graph = {\n",
    "    'A' : ['B','C'],\n",
    "    'B' : ['D', 'E'],\n",
    "    'C' : ['F'],\n",
    "    'D' : [],\n",
    "    'E' : ['F'],\n",
    "    'F' : []\n",
    "}\n",
    "\n",
    "Astar(graph,'B','F')"
   ]
  },
  {
   "cell_type": "code",
   "execution_count": null,
   "metadata": {},
   "outputs": [],
   "source": []
  }
 ],
 "metadata": {
  "kernelspec": {
   "display_name": "Python 3",
   "language": "python",
   "name": "python3"
  },
  "language_info": {
   "codemirror_mode": {
    "name": "ipython",
    "version": 3
   },
   "file_extension": ".py",
   "mimetype": "text/x-python",
   "name": "python",
   "nbconvert_exporter": "python",
   "pygments_lexer": "ipython3",
   "version": "3.7.3"
  }
 },
 "nbformat": 4,
 "nbformat_minor": 2
}
