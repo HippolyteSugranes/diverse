{
 "cells": [
  {
   "cell_type": "code",
   "execution_count": 7,
   "metadata": {},
   "outputs": [],
   "source": [
    "from numpy.random import randint\n",
    "from numpy import inf"
   ]
  },
  {
   "cell_type": "code",
   "execution_count": 37,
   "metadata": {},
   "outputs": [],
   "source": [
    "def palyndroms(s):\n",
    "    pals = []\n",
    "    middle = 2*len(s) - 1\n",
    "    for i in range(middle):\n",
    "        letter = i//2\n",
    "        if i % 2 == 0:\n",
    "            forw = letter + 1\n",
    "            back = letter - 1\n",
    "            pals.append(s[letter])\n",
    "        else:\n",
    "            forw = letter + 1\n",
    "            back = letter\n",
    "            \n",
    "        while forw < len(s) and back >= 0:\n",
    "            if s[forw] == s[back]:\n",
    "                pals.append(s[back:forw + 1])\n",
    "            else:\n",
    "                break\n",
    "            forw += 1\n",
    "            back -= 1\n",
    "    return sorted(list(set(pals)),key = lambda n:len(n))"
   ]
  },
  {
   "cell_type": "code",
   "execution_count": 58,
   "metadata": {},
   "outputs": [],
   "source": [
    "def zigzag(s : str , numrows : int) -> str:\n",
    "    if numrows == 1:\n",
    "        return s\n",
    "    t = 2 * numrows - 2\n",
    "    l = ['' for _ in range(numrows)]\n",
    "    for i in range(len(s)):\n",
    "        for j in range(numrows):\n",
    "            if i % t == j:\n",
    "                l[j] += s[i]\n",
    "            if j not in [0,numrows - 1]:\n",
    "                if i % t == t - j:\n",
    "                    l[j] += s[i]\n",
    "    out = ''\n",
    "    for line in l:\n",
    "        out += line\n",
    "    return out"
   ]
  },
  {
   "cell_type": "code",
   "execution_count": 68,
   "metadata": {},
   "outputs": [],
   "source": [
    "def reverse_integer(num):\n",
    "    pos = num > 0\n",
    "    temp = list(reversed(list(str(abs(num)))))\n",
    "    out = ''\n",
    "    for i in temp:\n",
    "        out += i\n",
    "    if pos:\n",
    "        return int(out)\n",
    "    else:\n",
    "        return - int(out)"
   ]
  },
  {
   "cell_type": "code",
   "execution_count": 4,
   "metadata": {},
   "outputs": [],
   "source": [
    "def palyndrom(num):\n",
    "    return str(num) == str(num)[::-1]"
   ]
  },
  {
   "cell_type": "code",
   "execution_count": 74,
   "metadata": {},
   "outputs": [],
   "source": [
    "def regex_1(s , p):\n",
    "    # .: any character, *: 0 or more repetition of the last character\n",
    "    if len(s) == 0 and len(p) == 0:\n",
    "        return True\n",
    "    elif len(s) == 0 or len(p) == 0:\n",
    "        return False\n",
    "    \n",
    "    if len(p)==1 or p[1] != '*':\n",
    "        if p[0] in [s[0],'.']:\n",
    "            return regex(s[1:] , p[1:])\n",
    "        else:\n",
    "            return False\n",
    "    \n",
    "    if p[1] == '*':\n",
    "        if p[0] in [s[0],'.']:\n",
    "            return regex(s[1:] , p) or regex(s[1:] , p[2:])\n",
    "        else:\n",
    "            return regex(s[1:] , p[2:])"
   ]
  },
  {
   "cell_type": "code",
   "execution_count": 78,
   "metadata": {},
   "outputs": [],
   "source": [
    "def container(l):\n",
    "    m = 0\n",
    "    for i in range(len(l)):\n",
    "        for j in range(len(l) - i - 1):\n",
    "            m = max(m , min(l[i],l[i + j +1]) * (j + 1))\n",
    "    return m"
   ]
  },
  {
   "cell_type": "code",
   "execution_count": 83,
   "metadata": {},
   "outputs": [],
   "source": [
    "def romans(num : int):\n",
    "    number = [['I',1],['V',5],['X',10],['L',50],['C',100],['D',500],['M',1000]]\n",
    "    out = ''\n",
    "    for m in reversed(number):\n",
    "        for _ in range(num//m[1]):\n",
    "            out += m[0]\n",
    "        \n",
    "        num = num%m[1]\n",
    "    \n",
    "    out = out.replace('VIIII','IX')\n",
    "    out = out.replace('IIII','IV')\n",
    "    out = out.replace('LXXXX','XC')\n",
    "    out = out.replace('XXXX','XL')\n",
    "    out = out.replace('DCCCC','CM')\n",
    "    out = out.replace('CCCC','CD')\n",
    "    return out"
   ]
  },
  {
   "cell_type": "code",
   "execution_count": 94,
   "metadata": {},
   "outputs": [],
   "source": [
    "def romans_to_int(s:str):\n",
    "    number = {'I':1,'V':5,'X':10,'L':50,'C':100,'D':500,'M':1000}\n",
    "    s = s.replace('IX','VIIII')\n",
    "    s = s.replace('IV','IIII')\n",
    "    s = s.replace('XC','LXXXX')\n",
    "    s = s.replace('XL','XXXX')\n",
    "    s = s.replace('CM','DCCCC')\n",
    "    s = s.replace('CD','CCCC')\n",
    "    out = 0\n",
    "    \n",
    "    for i in s:\n",
    "        out += number[i]\n",
    "    return out"
   ]
  },
  {
   "cell_type": "code",
   "execution_count": 3,
   "metadata": {},
   "outputs": [],
   "source": [
    "def regex_2(s , p):\n",
    "    # .: any character, *: 0 or more repetition of the last character\n",
    "    if len(s) == 0 and len(p) == 0:\n",
    "        return True\n",
    "    elif len(s) == 0 and list(set(list(p))) == ['*']:\n",
    "        return True\n",
    "    elif len(p) == 0 or len(s) == 0:\n",
    "        return False\n",
    "    \n",
    "    if p[0] != '*':\n",
    "        if p[0] in [s[0],'?']:\n",
    "            return regex_2(s[1:] , p[1:])\n",
    "        else:\n",
    "            return False\n",
    "    \n",
    "    if p[0] == '*':\n",
    "        if p[1] in [s[0],'?']:\n",
    "            return regex_2(s[1:] , p) or regex_2(s[1:] , p[2:])\n",
    "        else:\n",
    "            return regex_2(s[1:] , p)"
   ]
  },
  {
   "cell_type": "code",
   "execution_count": 31,
   "metadata": {},
   "outputs": [],
   "source": [
    "class ListNode():\n",
    "    def __init__(self,val = 0,next = None):\n",
    "        self.val = val\n",
    "        self.next = None\n",
    "\n",
    "def merge_lists(lists):\n",
    "    out = ListNode()\n",
    "    ind , n ,val = 0 , 0 , inf\n",
    "    \n",
    "    for l in lists:\n",
    "        print(l)\n",
    "        if l.val < val:\n",
    "            val = l.val\n",
    "            ind = n\n",
    "        n += 1\n",
    "    \n",
    "    out.val = val\n",
    "    out.next = ListNode()\n",
    "    \n",
    "    it = out.next\n",
    "    \n",
    "    while True:\n",
    "        ind , n  = 0 , 0\n",
    "        val = inf\n",
    "        \n",
    "        for l in lists:\n",
    "            if l == None:\n",
    "                continue\n",
    "            if l.val < val:\n",
    "                val = l.val\n",
    "                ind = n\n",
    "            \n",
    "            n += 1\n",
    "        \n",
    "        if val == inf:\n",
    "            it = None\n",
    "            break\n",
    "        \n",
    "        it.val = val\n",
    "        it.next = ListNode()\n",
    "        lists[ind] = lists[ind].next\n",
    "        \n",
    "        it = it.next\n",
    "        \n",
    "    return out"
   ]
  },
  {
   "cell_type": "code",
   "execution_count": 34,
   "metadata": {},
   "outputs": [],
   "source": [
    "Lists = []\n",
    "for _ in range(randint(5)):\n",
    "    Lists.append(ListNode())\n",
    "    l = Lists[-1]\n",
    "    for _ in range(randint(10)):\n",
    "        l.val = randint(20)\n",
    "        l.next = ListNode()\n",
    "        l = l.next"
   ]
  },
  {
   "cell_type": "code",
   "execution_count": 35,
   "metadata": {},
   "outputs": [
    {
     "name": "stdout",
     "output_type": "stream",
     "text": [
      "<__main__.ListNode object at 0x000001F9ADCBBB08>\n",
      "<__main__.ListNode object at 0x000001F9ADCD4B08>\n",
      "<__main__.ListNode object at 0x000001F9ADCD4D48>\n"
     ]
    }
   ],
   "source": [
    "l2 = merge_lists(Lists)"
   ]
  },
  {
   "cell_type": "code",
   "execution_count": 36,
   "metadata": {},
   "outputs": [],
   "source": [
    "for l1 in Lists:\n",
    "    l = l1\n",
    "    while l != None:\n",
    "        print(l.val)\n",
    "        l = l.next"
   ]
  },
  {
   "cell_type": "code",
   "execution_count": 37,
   "metadata": {},
   "outputs": [
    {
     "name": "stdout",
     "output_type": "stream",
     "text": [
      "0\n",
      "0\n",
      "5\n",
      "12\n",
      "0\n",
      "15\n",
      "7\n",
      "12\n",
      "0\n",
      "0\n"
     ]
    }
   ],
   "source": [
    "while l2 != None:\n",
    "    print(l2.val)\n",
    "    l2 = l2.next"
   ]
  },
  {
   "cell_type": "code",
   "execution_count": null,
   "metadata": {},
   "outputs": [],
   "source": []
  }
 ],
 "metadata": {
  "kernelspec": {
   "display_name": "Python 3",
   "language": "python",
   "name": "python3"
  },
  "language_info": {
   "codemirror_mode": {
    "name": "ipython",
    "version": 3
   },
   "file_extension": ".py",
   "mimetype": "text/x-python",
   "name": "python",
   "nbconvert_exporter": "python",
   "pygments_lexer": "ipython3",
   "version": "3.7.6"
  }
 },
 "nbformat": 4,
 "nbformat_minor": 4
}
